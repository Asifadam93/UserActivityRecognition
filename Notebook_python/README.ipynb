{
 "cells": [
  {
   "cell_type": "markdown",
   "metadata": {},
   "source": [
    "![Logo](images/logo.png)\n",
    "\n",
    "<h1 style=\"text-align: center\">Machine Learning<h1>\n",
    "<h2 style=\"text-align: center\">Création et analyse d'un Dataset d'activité physique<h2>\n",
    "<p  style='text-align:center; color : #666'> \n",
    "    <span style='margin-right: 50px;'>Asif ADAMSHA</span> Fabien GRISELLES\n",
    "</p>"
   ]
  },
  {
   "cell_type": "markdown",
   "metadata": {},
   "source": [
    "Le but de ce projet est de mettre en application nos connaissances en terme de machine learning. \n",
    "\n",
    "Le sujet était entièrement libre et nous avons choisi de créer notre propre jeu de données puis de l'analyser.\n",
    "\n",
    "La réalisation de cette projet s'est déroulé en deux étapes : \n",
    "1. Réaliser une application Android permettant de recolter les données de l'accéléromètres ainsi que des informations du lieu ou nous nous situons ;\n",
    "2. Analyser données recueillies avec python sur des notesbooks de l'application [Jupyter](http://jupyter.org/) sur [Anaconda](https://www.anaconda.com).\n"
   ]
  },
  {
   "cell_type": "markdown",
   "metadata": {},
   "source": [
    "## Présentation de l'application Android"
   ]
  },
  {
   "cell_type": "markdown",
   "metadata": {},
   "source": [
    "##### Accueil\n",
    "\n",
    "![Accueil](images/android/accueil.jpg)\n",
    "\n",
    "L'accueil permet simplement de sélectionner les options disponibles dans l'application (enregistrement d'un nouveau lieu ou enregistrement d'une activité)"
   ]
  },
  {
   "cell_type": "markdown",
   "metadata": {},
   "source": [
    "#### Liste des lieux déjà renseigné (Géo Fencing)\n",
    "\n",
    "![Liste des lieux géolocalisé déjà enregistrés](images/android/ajout_nouveau_lieu.jpg)\n",
    "\n",
    "L'application permet d'enregistrer différents lieux de références (maison, école, travail etc.). \n",
    "\n",
    "Le but de cette donnée est d'aider l'analyse que l'on fera plus tard avec nos différents classifeur (étape deux). En effet, il y a une probabilité plus élevé que l'on coure en exterieur que chez soi.\n"
   ]
  },
  {
   "cell_type": "markdown",
   "metadata": {},
   "source": [
    "#### Enregistrement d'une activité\n",
    "![enregistrement de l'activité](images/android/enregistrement_activite.jpg)\n",
    "\n",
    "L'enregistrement de l'activité permet d'enregistrer des brides d'activités pour une durée courte de 2 secondes. Le temps initial prévu de 4 secondes à été réduit : Aucune données que l'on enregistrait duraient plus de  1, 70 secondes"
   ]
  },
  {
   "cell_type": "markdown",
   "metadata": {},
   "source": [
    "#### Dataset crée\n",
    "\n",
    "![Dataset Crée](images/android/dataset_cree.jpg)\n",
    "\n",
    "Le Dataset crée est un fichier contenant les données suivantes :\n",
    "*  20 colonnes contenant les donnes de l'accéléromètre sur l'axe X (notées de x1 à x20)\n",
    "*  20 colonnes contenant les donnes de l'accéléromètre sur l'axe Y (notées de y1 à y20)\n",
    "*  20 colonnes contenant les donnes de l'accéléromètre sur l'axe Z (notées de z1 à z20)\n",
    "*  20 colonnes contenant la somme des colonnes x, y et z (notées de t1 à t20).\n",
    "*  1 colonne lieu\n",
    "*  1 colonne action"
   ]
  },
  {
   "cell_type": "markdown",
   "metadata": {},
   "source": [
    "## Présentation de l'analyse du dataset"
   ]
  },
  {
   "cell_type": "markdown",
   "metadata": {},
   "source": [
    "## Pré-traitement"
   ]
  },
  {
   "cell_type": "markdown",
   "metadata": {},
   "source": [
    "Avant de commencer l'analyse de nos données, il nous a fallu faire différent pré-traitements sur les Datasets que nous avons réalisés. \n",
    "\n",
    "La première action a consisté à concaténer les différents Dataset, puis de créer différents jeux de tests et d'entrainements à partir de notre Dataset initiale (BRUT) sur lequel nous avons transformer la valeur de la colonne Lieu en plusieurs (via des dummies)\n",
    "\n",
    "Les données BRUTES ne nous donnant pas satisfaction (avec uniquement les colonnes X, Y, Z, Action et Lieu) , nous avons décidé d'ajouter une donnée supplémentaire à savoir la somme des colonnes X,Y et Z afin de ne pas dépendre d'une seule position de téléphone.\n",
    "\n",
    "Au fil des différents essais, et étant donné que nous n'arrivions toujours pas à avoir un taux de prédiction élevé, nous nous avons décidé d'ajouter certaines informations supplémentaires: \n",
    "\n",
    "* La moyenne, \n",
    "* L'ecart type, \n",
    "* La valeur la plus basse (min)\n",
    "* La valeur la plus haute (max)\n",
    "\n",
    "L'idée de ces valeurs supplémentaires étaient de trouver ce qui caractérisait une action physique (au dela des différentes colonnes X, Y, Z initiales, humaine difficile d'exploitation)  : \n",
    "\n",
    "* Pour l'action \"saut\" : nous nous attondons à avoir une valeur max éleve (sur un dex axes), une moyenne relativement faible, et un écart type élevé ;\n",
    "* Pour l'action \"marcher\" nous nous attendons à une moyenne relativement faible, un max et min proche de la moyenne et  un écart type faible ;\n",
    "* Pour l'action \"ne rien faire\" nous nous attendons à une moyenne faible, un max et min très proche de la moyenne et un écart type faible ;\n",
    "* Pour l'action de courir, nous nous attendions à avoir une moyenne élevée, un max et un min proche de cette moyenne et un écart type faible ;\n",
    "* etc.\n",
    "\n",
    "AU final, nous avons réalisés trois jeux de pré-traitement, ayant des données différentes.\n",
    "1. Un pré-traitement ne contenant que les données des colonnes X, Y, Z, Action et Lieux\n",
    "2. Un pré-traitement contenant les données des colonnes X, Y, Z, T Action et Lieux\n",
    "3. Un pré-traitement ne contenant que les données des colonnes T, Action et Lieux\n",
    "\n",
    "Chacun de ces pré-traitement était décliné afin de fournir des jeux de tests et d'entrainement différents :\n",
    "1. Un jeu de test BRUT (utilisant du dataset) ;\n",
    "2. Un jeu de test Analysé contenant en plus des données BRUT les valeurs des moyennes, ecart type, min et max ;\n",
    "3. Un jeu de tes Analysé sans les colonnes X, Y, Z et T (X,Y,Z pour le premier pré-traitement, X,Y,Z,T pour le second pré-traitement et T pour le dernier pré-traitement) \n",
    "\n",
    "Ces 3 pré-traitements sont disponibles dans les notebooks : \n",
    "\n",
    "* **Dataset Pré-traitement sans t.ipynb**\n",
    "* **Dataset Pré-traitement avec t.ipynb**\n",
    "* **Dataset Pré-traitement uniquement t.ipynb**\n",
    "\n",
    "Nous avons utilisé l'extension storemagic (intégré de base dans la version de jupyter que nous utilisions) afin de sauvegarder les différents jeux de tests (via **%store variable** et **%store -r variable**).\n",
    "\n",
    "Cela nous permettant de lancer la création des différents jeux de tests et d'entrainements, puis de les utiliser ensuite dans les notesbooks des classifieurs que nous testions"
   ]
  },
  {
   "cell_type": "markdown",
   "metadata": {},
   "source": [
    "## Arbre de décision"
   ]
  },
  {
   "cell_type": "markdown",
   "metadata": {},
   "source": [
    "//TODO ASIF"
   ]
  },
  {
   "cell_type": "markdown",
   "metadata": {},
   "source": [
    "//TODO ASIF"
   ]
  },
  {
   "cell_type": "markdown",
   "metadata": {},
   "source": [
    "//TODO ASIF"
   ]
  },
  {
   "cell_type": "markdown",
   "metadata": {},
   "source": [
    "//TODO ASIF"
   ]
  },
  {
   "cell_type": "markdown",
   "metadata": {},
   "source": [
    "//TODO ASIF"
   ]
  },
  {
   "cell_type": "markdown",
   "metadata": {},
   "source": [
    "//TODO ASIF"
   ]
  },
  {
   "cell_type": "markdown",
   "metadata": {},
   "source": [
    "//TODO ASIF"
   ]
  },
  {
   "cell_type": "markdown",
   "metadata": {},
   "source": [
    "//TODO ASIF"
   ]
  },
  {
   "cell_type": "markdown",
   "metadata": {},
   "source": [
    "## Multi-layer Perceptron"
   ]
  },
  {
   "cell_type": "markdown",
   "metadata": {},
   "source": [
    "Le Classifieur Multi-layer Perceptron nous a donné les résultat les plus efficace jusqu'à maintenant, cela est surement du à sa capacité à ingérer les différentes données sur plusieurs neurones. \n",
    "\n",
    "Les tests réalisés sur ce classifieur se trouvent dans le notebook : **Dataset Analyse NPU.ipynb**\n",
    "\n",
    "**Ce test doit être lancé après avoir lancé un des trois pré-traitement.**\n",
    "\n",
    "Lors ce ces différents tests, nous avons chercher le meilleur classifieur en testant différentes configuration de couches de neurones allant de 100 à 900 avec 2 niveaux de profondeur via le paramètre **hidden_layer_sizes** (100 à 900), (100 à 900).\n"
   ]
  },
  {
   "cell_type": "markdown",
   "metadata": {},
   "source": [
    "### Résultat de la recherche du meilleur classifeur MLP avec le Pré-traitement sans T\n",
    "\n",
    "##### ANALYSE AVEC LE JEU DE DONNEES BRUTES : \n"
   ]
  },
  {
   "cell_type": "raw",
   "metadata": {},
   "source": [
    "                                     precision    recall  f1-score   support\n",
    "\n",
    "                            Courrir       0.83      0.47      0.60        40\n",
    "                            Marcher       0.82      0.72      0.77        43\n",
    "                      Ne rien faire       0.54      0.90      0.68        41\n",
    "S'allonger (depuis position assise)       0.92      0.79      0.85        43\n",
    "S'allonger (depuis position debout)       0.75      0.92      0.83        39\n",
    "                  S'assoir (chaise)       0.69      0.82      0.75        33\n",
    "S'assoir (depuis position allongée)       0.86      0.86      0.86        49\n",
    "                             Sauter       0.66      0.55      0.60        38\n",
    "                  Se lever (chaise)       0.80      0.63      0.71        38\n",
    "Se lever (depuis position allongée)       0.66      0.66      0.66        32\n",
    "\n",
    "                        avg / total       0.76      0.74      0.74       396\n",
    "                        "
   ]
  },
  {
   "cell_type": "markdown",
   "metadata": {},
   "source": [
    "##### ANALYSE AVEC LE JEU DE DONNEES ANALYSE : "
   ]
  },
  {
   "cell_type": "raw",
   "metadata": {},
   "source": [
    "ANALYSE AVEC LE JEU DE DONNEES ANALYSE : \n",
    "Detailed classification report:\n",
    "\n",
    "                                     precision    recall  f1-score   support\n",
    "\n",
    "                            Courrir       0.78      0.40      0.53        45\n",
    "                            Marcher       0.80      0.97      0.88        38\n",
    "                      Ne rien faire       0.97      1.00      0.99        39\n",
    "S'allonger (depuis position assise)       0.91      0.93      0.92        42\n",
    "S'allonger (depuis position debout)       0.77      0.88      0.82        34\n",
    "                  S'assoir (chaise)       0.76      0.89      0.82        38\n",
    "S'assoir (depuis position allongée)       0.89      0.93      0.91        44\n",
    "                             Sauter       0.59      0.57      0.58        42\n",
    "                  Se lever (chaise)       0.81      0.79      0.80        38\n",
    "Se lever (depuis position allongée)       0.83      0.83      0.83        36\n",
    "\n",
    "                        avg / total       0.81      0.81      0.80       396"
   ]
  },
  {
   "cell_type": "markdown",
   "metadata": {},
   "source": [
    "##### ANALYSE AVEC LE JEU DE DDONNEES ANALYSE 2 (Sans X, Y et Z):"
   ]
  },
  {
   "cell_type": "raw",
   "metadata": {},
   "source": [
    "Detailed classification report:\n",
    "\n",
    "                                     precision    recall  f1-score   support\n",
    "\n",
    "                            Courrir       0.83      0.83      0.83        42\n",
    "                            Marcher       0.82      0.93      0.87        40\n",
    "                      Ne rien faire       0.97      1.00      0.99        35\n",
    "S'allonger (depuis position assise)       0.64      0.86      0.73        35\n",
    "S'allonger (depuis position debout)       0.71      0.65      0.68        37\n",
    "                  S'assoir (chaise)       0.64      0.72      0.68        40\n",
    "S'assoir (depuis position allongée)       0.77      0.68      0.72        50\n",
    "                             Sauter       0.78      0.84      0.81        38\n",
    "                  Se lever (chaise)       0.62      0.55      0.58        38\n",
    "Se lever (depuis position allongée)       0.64      0.44      0.52        41\n",
    "\n",
    "                        avg / total       0.74      0.74      0.74       396\n"
   ]
  },
  {
   "cell_type": "markdown",
   "metadata": {},
   "source": [
    "\n",
    "\n",
    "### Résultat de la recherche du meilleur classifeur MLP avec le  Pré-traitement avec T\n",
    "\n",
    "\n"
   ]
  },
  {
   "cell_type": "markdown",
   "metadata": {},
   "source": [
    "##### ANALYSE AVEC LE JEU DE DDONNEES BRUTES : "
   ]
  },
  {
   "cell_type": "raw",
   "metadata": {},
   "source": [
    "Detailed classification report:\n",
    "\n",
    "                                     precision    recall  f1-score   support\n",
    "\n",
    "                            Courrir       0.94      0.40      0.57        42\n",
    "                            Marcher       0.76      0.67      0.71        42\n",
    "                      Ne rien faire       0.67      0.88      0.76        40\n",
    "S'allonger (depuis position assise)       0.90      0.90      0.90        42\n",
    "S'allonger (depuis position debout)       0.65      0.89      0.75        35\n",
    "                  S'assoir (chaise)       0.77      0.75      0.76        40\n",
    "S'assoir (depuis position allongée)       0.68      0.87      0.77        47\n",
    "                             Sauter       0.62      0.74      0.68        35\n",
    "                  Se lever (chaise)       0.78      0.76      0.77        33\n",
    "Se lever (depuis position allongée)       0.73      0.47      0.58        40\n",
    "\n",
    "                        avg / total       0.75      0.73      0.72       396"
   ]
  },
  {
   "cell_type": "markdown",
   "metadata": {},
   "source": [
    "##### ANALYSE AVEC LE JEU DE DONNEES ANALYSE : "
   ]
  },
  {
   "cell_type": "raw",
   "metadata": {},
   "source": [
    "Detailed classification report:\n",
    "\n",
    "                                     precision    recall  f1-score   support\n",
    "\n",
    "                            Courrir       0.84      0.55      0.67        38\n",
    "                            Marcher       0.82      0.86      0.84        36\n",
    "                      Ne rien faire       0.82      0.94      0.88        34\n",
    "S'allonger (depuis position assise)       0.91      0.95      0.93        44\n",
    "S'allonger (depuis position debout)       0.89      0.86      0.87        36\n",
    "                  S'assoir (chaise)       0.73      0.78      0.75        41\n",
    "S'assoir (depuis position allongée)       0.85      0.80      0.83        51\n",
    "                             Sauter       0.63      0.85      0.73        39\n",
    "                  Se lever (chaise)       0.91      0.80      0.85        40\n",
    "Se lever (depuis position allongée)       0.76      0.70      0.73        37\n",
    "\n",
    "                        avg / total       0.82      0.81      0.81       396"
   ]
  },
  {
   "cell_type": "markdown",
   "metadata": {},
   "source": [
    "##### ANALYSE AVEC LE JEU DE DDONNEES ANALYSE 2 (Sans X, Y, Z et T):"
   ]
  },
  {
   "cell_type": "raw",
   "metadata": {},
   "source": [
    "Detailed classification report:\n",
    "\n",
    "                                     precision    recall  f1-score   support\n",
    "\n",
    "                            Courrir       0.88      0.84      0.86        44\n",
    "                            Marcher       0.88      0.86      0.87        42\n",
    "                      Ne rien faire       0.97      0.95      0.96        39\n",
    "S'allonger (depuis position assise)       0.63      0.76      0.69        41\n",
    "S'allonger (depuis position debout)       0.45      0.39      0.41        44\n",
    "                  S'assoir (chaise)       0.58      0.54      0.56        35\n",
    "S'assoir (depuis position allongée)       0.73      0.78      0.76        46\n",
    "                             Sauter       0.82      0.95      0.88        38\n",
    "                  Se lever (chaise)       0.57      0.71      0.63        35\n",
    "Se lever (depuis position allongée)       0.50      0.28      0.36        32\n",
    "\n",
    "                        avg / total       0.71      0.71      0.71       396 "
   ]
  },
  {
   "cell_type": "markdown",
   "metadata": {},
   "source": [
    "\n",
    "\n",
    "### Résultat de la recherche du meilleur classifeur MLP avec le  Pré-traitement avec T\n",
    "\n",
    "\n"
   ]
  },
  {
   "cell_type": "markdown",
   "metadata": {},
   "source": [
    "##### ANALYSE AVEC LE JEU DE DDONNEES BRUTES : \n"
   ]
  },
  {
   "cell_type": "raw",
   "metadata": {},
   "source": [
    "Detailed classification report:\n",
    "\n",
    "                                     precision    recall  f1-score   support\n",
    "\n",
    "                            Courrir       0.59      0.23      0.33        43\n",
    "                            Marcher       0.57      0.77      0.65        39\n",
    "                      Ne rien faire       0.67      1.00      0.80        43\n",
    "S'allonger (depuis position assise)       0.90      0.68      0.78        41\n",
    "S'allonger (depuis position debout)       0.70      0.70      0.70        37\n",
    "                  S'assoir (chaise)       0.57      0.61      0.59        33\n",
    "S'assoir (depuis position allongée)       0.54      0.69      0.61        45\n",
    "                             Sauter       0.65      0.67      0.66        36\n",
    "                  Se lever (chaise)       0.68      0.68      0.68        38\n",
    "Se lever (depuis position allongée)       0.63      0.41      0.50        41\n",
    "\n",
    "                        avg / total       0.65      0.64      0.63       396"
   ]
  },
  {
   "cell_type": "markdown",
   "metadata": {},
   "source": [
    "##### ANALYSE AVEC LE JEU DE DONNEES ANALYSE : \n"
   ]
  },
  {
   "cell_type": "raw",
   "metadata": {},
   "source": [
    "Detailed classification report:\n",
    "\n",
    "                                     precision    recall  f1-score   support\n",
    "\n",
    "                            Courrir       0.83      0.21      0.33        48\n",
    "                            Marcher       0.43      0.71      0.53        41\n",
    "                      Ne rien faire       0.89      1.00      0.94        34\n",
    "S'allonger (depuis position assise)       0.67      0.74      0.71        39\n",
    "S'allonger (depuis position debout)       0.62      0.67      0.64        42\n",
    "                  S'assoir (chaise)       0.63      0.85      0.72        34\n",
    "S'assoir (depuis position allongée)       0.65      0.73      0.69        41\n",
    "                             Sauter       0.62      0.36      0.45        42\n",
    "                  Se lever (chaise)       0.71      0.80      0.75        40\n",
    "Se lever (depuis position allongée)       0.48      0.40      0.44        35\n",
    "\n",
    "                        avg / total       0.66      0.63      0.61       396"
   ]
  },
  {
   "cell_type": "markdown",
   "metadata": {},
   "source": [
    "##### ANALYSE AVEC LE JEU DE DDONNEES ANALYSE 2 (Sans T):\n"
   ]
  },
  {
   "cell_type": "raw",
   "metadata": {},
   "source": [
    "Detailed classification report:\n",
    "\n",
    "                                     precision    recall  f1-score   support\n",
    "\n",
    "                            Courrir       0.76      0.67      0.71        39\n",
    "                            Marcher       0.76      0.62      0.68        40\n",
    "                      Ne rien faire       0.95      0.95      0.95        38\n",
    "S'allonger (depuis position assise)       0.46      0.41      0.43        44\n",
    "S'allonger (depuis position debout)       0.73      0.42      0.54        45\n",
    "                  S'assoir (chaise)       0.33      0.40      0.36        35\n",
    "S'assoir (depuis position allongée)       0.52      0.53      0.53        45\n",
    "                             Sauter       0.61      0.94      0.74        35\n",
    "                  Se lever (chaise)       0.37      0.41      0.38        37\n",
    "Se lever (depuis position allongée)       0.40      0.45      0.42        38\n",
    "\n",
    "                        avg / total       0.59      0.57      0.57       396"
   ]
  }
 ],
 "metadata": {
  "kernelspec": {
   "display_name": "Python 3",
   "language": "python",
   "name": "python3"
  },
  "language_info": {
   "codemirror_mode": {
    "name": "ipython",
    "version": 3
   },
   "file_extension": ".py",
   "mimetype": "text/x-python",
   "name": "python",
   "nbconvert_exporter": "python",
   "pygments_lexer": "ipython3",
   "version": "3.6.1"
  }
 },
 "nbformat": 4,
 "nbformat_minor": 2
}

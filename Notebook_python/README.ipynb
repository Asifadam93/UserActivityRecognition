{
 "cells": [
  {
   "cell_type": "markdown",
   "metadata": {},
   "source": [
    "![Logo](images/logo.png)\n",
    "\n",
    "<h1 style=\"text-align: center\">Machine Learning<h1>\n",
    "<h2 style=\"text-align: center\">Création et analyse d'un Dataset d'activité physique<h2>\n",
    "<p  style='text-align:center; color : #666'> \n",
    "    <span style='margin-right: 50px;'>Asif ADAMSHA</span> Fabien GRISELLES\n",
    "</p>"
   ]
  },
  {
   "cell_type": "markdown",
   "metadata": {},
   "source": [
    "Le but de ce projet est de mettre en application nos connaissances en terme de machine learning. \n",
    "\n",
    "Le sujet était entièrement libre et nous avons choisi de créer notre propre jeu de données puis de l'analyser.\n",
    "\n",
    "La réalisation de cette projet s'est déroulé en deux étapes : \n",
    "1. Réaliser une application Android permettant de recolter les données de l'accéléromètres ainsi que des informations du lieu ou nous nous situons ;\n",
    "2. Analyser données recueillies avec python sur des notesbooks de l'application [Jupyter](http://jupyter.org/) sur [Anaconda](https://www.anaconda.com).\n"
   ]
  },
  {
   "cell_type": "markdown",
   "metadata": {},
   "source": [
    "## Présentation de l'application Android"
   ]
  },
  {
   "cell_type": "markdown",
   "metadata": {},
   "source": [
    "##### Accueil\n",
    "\n",
    "![Accueil](images/android/accueil.jpg)\n",
    "\n",
    "L'accueil permet simplement de sélectionner les options disponibles dans l'application (enregistrement d'un nouveau lieu ou enregistrement d'une activité)"
   ]
  },
  {
   "cell_type": "markdown",
   "metadata": {},
   "source": [
    "#### Liste des lieux déjà renseigné (Géo Fencing)\n",
    "\n",
    "![Liste des lieux géolocalisé déjà enregistrés](images/android/ajout_nouveau_lieu.jpg)\n",
    "\n",
    "L'application permet d'enregistrer différents lieux de références (maison, école, travail etc.). \n",
    "\n",
    "Le but de cette donnée est d'aider l'analyse que l'on fera plus tard avec nos différents classifeur (étape deux). En effet, il y a une probabilité plus élevé que l'on coure en exterieur que chez soi.\n"
   ]
  },
  {
   "cell_type": "markdown",
   "metadata": {},
   "source": [
    "#### Enregistrement d'une activité\n",
    "![enregistrement de l'activité](images/android/enregistrement_activite.jpg)\n",
    "\n",
    "L'enregistrement de l'activité permet d'enregistrer des brides d'activités pour une durée courte de 2 secondes. Le temps initial prévu de 4 secondes à été réduit : Aucune données que l'on enregistrait duraient plus de  1, 70 secondes"
   ]
  },
  {
   "cell_type": "markdown",
   "metadata": {},
   "source": [
    "#### Dataset crée\n",
    "\n",
    "![Dataset Crée](images/android/dataset_cree.jpg)\n",
    "\n",
    "Le Dataset crée est un fichier contenant les données suivantes :\n",
    "*  20 colonnes contenant les donnes de l'accéléromètre sur l'axe X (notées de x1 à x20)\n",
    "*  20 colonnes contenant les donnes de l'accéléromètre sur l'axe Y (notées de y1 à y20)\n",
    "*  20 colonnes contenant les donnes de l'accéléromètre sur l'axe Z (notées de z1 à z20)\n",
    "*  20 colonnes contenant la somme des colonnes x, y et z (notées de t1 à t20).\n",
    "*  1 colonne lieu\n",
    "*  1 colonne action"
   ]
  },
  {
   "cell_type": "markdown",
   "metadata": {},
   "source": [
    "## Présentation de l'analyse du dataset"
   ]
  },
  {
   "cell_type": "markdown",
   "metadata": {},
   "source": [
    "## Pré-traitement"
   ]
  },
  {
   "cell_type": "markdown",
   "metadata": {},
   "source": [
    "Avant de commencer l'analyse de nos données, il nous a fallu faire différent pré-traitements sur les Datasets que nous avons réalisés. \n",
    "\n",
    "La première action a consisté à concaténer les différents Dataset, puis de créer différents jeux de tests et d'entrainements à partir de notre Dataset initiale (BRUT) sur lequel nous avons transformer la valeur de la colonne Lieu en plusieurs (via des dummies)\n",
    "\n",
    "Les données BRUTES ne nous donnant pas satisfaction (avec uniquement les colonnes X, Y, Z, Action et Lieu) , nous avons décidé d'ajouter une donnée supplémentaire à savoir la somme des colonnes X,Y et Z afin de ne pas dépendre d'une seule position de téléphone.\n",
    "\n",
    "Au fil des différents essais, et étant donné que nous n'arrivions toujours pas à avoir un taux de prédiction élevé, nous nous avons décidé d'ajouter certaines informations supplémentaires: \n",
    "\n",
    "* La moyenne, \n",
    "* L'ecart type, \n",
    "* La valeur la plus basse (min)\n",
    "* La valeur la plus haute (max)\n",
    "\n",
    "L'idée de ces valeurs supplémentaires étaient de trouver ce qui caractérisait une action physique (au dela des différentes colonnes X, Y, Z initiales, humaine difficile d'exploitation)  : \n",
    "\n",
    "* Pour l'action \"saut\" : nous nous attondons à avoir une valeur max éleve (sur un dex axes), une moyenne relativement faible, et un écart type élevé ;\n",
    "* Pour l'action \"marcher\" nous nous attendons à une moyenne relativement faible, un max et min proche de la moyenne et  un écart type faible ;\n",
    "* Pour l'action \"ne rien faire\" nous nous attendons à une moyenne faible, un max et min très proche de la moyenne et un écart type faible ;\n",
    "* Pour l'action de courir, nous nous attendions à avoir une moyenne élevée, un max et un min proche de cette moyenne et un écart type faible ;\n",
    "* etc.\n",
    "\n",
    "AU final, nous avons réalisés trois jeux de pré-traitement, ayant des données différentes.\n",
    "1. Un pré-traitement ne contenant que les données des colonnes X, Y, Z, Action et Lieux\n",
    "2. Un pré-traitement contenant les données des colonnes X, Y, Z, T Action et Lieux\n",
    "3. Un pré-traitement ne contenant que les données des colonnes T, Action et Lieux\n",
    "\n",
    "Chacun de ces pré-traitement était décliné afin de fournir des jeux de tests et d'entrainement différents :\n",
    "1. Un jeu de test BRUT (utilisant du dataset) ;\n",
    "2. Un jeu de test Analysé contenant en plus des données BRUT les valeurs des moyennes, ecart type, min et max ;\n",
    "3. Un jeu de tes Analysé sans les colonnes X, Y, Z et T (X,Y,Z pour le premier pré-traitement, X,Y,Z,T pour le second pré-traitement et T pour le dernier pré-traitement) \n",
    "\n",
    "Ces 3 pré-traitements sont disponibles dans les notebooks : \n",
    "\n",
    "* **Dataset Pré-traitement sans t.ipynb**\n",
    "* **Dataset Pré-traitement avec t.ipynb**\n",
    "* **Dataset Pré-traitement uniquement t.ipynb**\n",
    "\n",
    "Nous avons utilisé l'extension storemagic (intégré de base dans la version de jupyter que nous utilisions) afin de sauvegarder les différents jeux de tests (via **%store variable** et **%store -r variable**).\n",
    "\n",
    "Cela nous permettant de lancer la création des différents jeux de tests et d'entrainements, puis de les utiliser ensuite dans les notesbooks des classifieurs que nous testions"
   ]
  },
  {
   "cell_type": "markdown",
   "metadata": {},
   "source": []
  },
  {
   "cell_type": "markdown",
   "metadata": {},
   "source": []
  },
  {
   "cell_type": "markdown",
   "metadata": {},
   "source": []
  },
  {
   "cell_type": "markdown",
   "metadata": {},
   "source": []
  },
  {
   "cell_type": "markdown",
   "metadata": {},
   "source": []
  },
  {
   "cell_type": "markdown",
   "metadata": {},
   "source": []
  },
  {
   "cell_type": "markdown",
   "metadata": {},
   "source": []
  },
  {
   "cell_type": "markdown",
   "metadata": {},
   "source": []
  },
  {
   "cell_type": "markdown",
   "metadata": {},
   "source": []
  }
 ],
 "metadata": {
  "kernelspec": {
   "display_name": "Python 3",
   "language": "python",
   "name": "python3"
  },
  "language_info": {
   "codemirror_mode": {
    "name": "ipython",
    "version": 3
   },
   "file_extension": ".py",
   "mimetype": "text/x-python",
   "name": "python",
   "nbconvert_exporter": "python",
   "pygments_lexer": "ipython3",
   "version": "3.6.1"
  }
 },
 "nbformat": 4,
 "nbformat_minor": 2
}

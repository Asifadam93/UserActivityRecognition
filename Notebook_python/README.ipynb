{
 "cells": [
  {
   "cell_type": "markdown",
   "metadata": {},
   "source": [
    "![Logo](images/logo.png)\n",
    "\n",
    "<h1 style=\"text-align: center\">Machine Learning<h1>\n",
    "<h2 style=\"text-align: center\">Création et analyse d'un Dataset d'activité physique<h2>\n",
    "<p  style='text-align:center; color : #666'> \n",
    "    <span style='margin-right: 50px;'>Asif ADAMSHA</span> Fabien GRISELLES\n",
    "</p>"
   ]
  },
  {
   "cell_type": "markdown",
   "metadata": {},
   "source": [
    "Le but de ce projet est de mettre en application nos connaissances en terme de machine learning. \n",
    "\n",
    "Le sujet était entièrement libre et nous avons choisi de créer notre propre jeu de données puis de l'analyser.\n",
    "\n",
    "La réalisation de cette projet s'est déroulé en deux étapes : \n",
    "1. Réaliser une application Android permettant de recolter les données de l'accéléromètres ainsi que des informations du lieu ou nous nous situons ;\n",
    "2. Analyser données recueillies avec python sur des notesbooks de l'application [Jupyter](http://jupyter.org/) sur [Anaconda](https://www.anaconda.com).\n",
    "\n",
    "\n",
    "Le projet est disponible sur [Github](https://github.com/Asifadam93/UserActivityRecognition)"
   ]
  },
  {
   "cell_type": "markdown",
   "metadata": {},
   "source": [
    "## Présentation de l'application Android"
   ]
  },
  {
   "cell_type": "markdown",
   "metadata": {},
   "source": [
    "##### Accueil\n",
    "\n",
    "![Accueil](images/android/accueil.jpg)\n",
    "\n",
    "L'accueil permet simplement de sélectionner les options disponibles dans l'application (enregistrement d'un nouveau lieu ou enregistrement d'une activité)"
   ]
  },
  {
   "cell_type": "markdown",
   "metadata": {},
   "source": [
    "#### Liste des lieux déjà renseigné (Géo Fencing)\n",
    "\n",
    "![Liste des lieux géolocalisé déjà enregistrés](images/android/ajout_nouveau_lieu.jpg)\n",
    "\n",
    "L'application permet d'enregistrer différents lieux de références (maison, école, travail etc.). \n",
    "\n",
    "Le but de cette donnée est d'aider l'analyse que l'on fera plus tard avec nos différents classifeur (étape deux). En effet, il y a une probabilité plus élevé que l'on coure en exterieur que chez soi.\n"
   ]
  },
  {
   "cell_type": "markdown",
   "metadata": {},
   "source": [
    "#### Enregistrement d'une activité\n",
    "![enregistrement de l'activité](images/android/enregistrement_activite.jpg)\n",
    "\n",
    "L'enregistrement de l'activité permet d'enregistrer des brides d'activités pour une durée courte de 2 secondes. Le temps initial prévu de 4 secondes à été réduit : Aucune données que l'on enregistrait duraient plus de  1, 70 secondes"
   ]
  },
  {
   "cell_type": "markdown",
   "metadata": {},
   "source": [
    "#### Dataset crée\n",
    "\n",
    "![Dataset Crée](images/android/dataset_cree.jpg)\n",
    "\n",
    "Le Dataset crée est un fichier contenant les données suivantes :\n",
    "*  20 colonnes contenant les donnes de l'accéléromètre sur l'axe X (notées de x1 à x20)\n",
    "*  20 colonnes contenant les donnes de l'accéléromètre sur l'axe Y (notées de y1 à y20)\n",
    "*  20 colonnes contenant les donnes de l'accéléromètre sur l'axe Z (notées de z1 à z20)\n",
    "*  20 colonnes contenant la somme des colonnes x, y et z (notées de t1 à t20).\n",
    "*  1 colonne lieu\n",
    "*  1 colonne action"
   ]
  },
  {
   "cell_type": "markdown",
   "metadata": {},
   "source": [
    "## Présentation de l'analyse du dataset"
   ]
  },
  {
   "cell_type": "markdown",
   "metadata": {},
   "source": [
    "## Pré-traitement"
   ]
  },
  {
   "cell_type": "markdown",
   "metadata": {},
   "source": [
    "Avant de commencer l'analyse de nos données, il nous a fallu faire différents pré-traitements sur les Datasets que nous avons réalisés. \n",
    "\n",
    "La première action a consisté à concaténer les différents Dataset, puis de créer différents jeux de tests et d'entrainements à partir de notre Dataset initiale (BRUT) sur lequel nous avons transformer la valeur de la colonne Lieu en plusieurs (via des dummies)\n",
    "\n",
    "Les données BRUTES ne nous donnant pas satisfaction (avec uniquement les colonnes X, Y, Z, Action et Lieu) , nous avons décidé d'ajouter une donnée supplémentaire à savoir la somme des colonnes X,Y et Z afin de ne pas dépendre d'une seule position de téléphone.\n",
    "\n",
    "Au fil des différents essais, et étant donné que nous n'arrivions toujours pas à avoir un taux de prédiction élevé, nous nous avons décidé d'ajouter certaines informations supplémentaires: \n",
    "\n",
    "* La moyenne, \n",
    "* L'ecart type, \n",
    "* La valeur la plus basse (min)\n",
    "* La valeur la plus haute (max)\n",
    "\n",
    "L'idée de ces valeurs supplémentaires étaient de trouver ce qui caractérisait une action physique (au dela des différentes colonnes X, Y, Z initiales, humaine difficile d'exploitation)  : \n",
    "\n",
    "* Pour l'action \"saut\" : nous nous attondons à avoir une valeur max éleve (sur un dex axes), une moyenne relativement faible, et un écart type élevé ;\n",
    "* Pour l'action \"marcher\" nous nous attendons à une moyenne relativement faible, un max et min proche de la moyenne et  un écart type faible ;\n",
    "* Pour l'action \"ne rien faire\" nous nous attendons à une moyenne faible, un max et min très proche de la moyenne et un écart type faible ;\n",
    "* Pour l'action de courir, nous nous attendions à avoir une moyenne élevée, un max et un min proche de cette moyenne et un écart type faible ;\n",
    "* etc.\n",
    "\n",
    "Au final, nous avons réalisés trois jeux de pré-traitement, ayant des données différentes.\n",
    "1. Un pré-traitement ne contenant que les données des colonnes X, Y, Z, Action et Lieux\n",
    "2. Un pré-traitement contenant les données des colonnes X, Y, Z, T Action et Lieux\n",
    "3. Un pré-traitement ne contenant que les données des colonnes T, Action et Lieux\n",
    "\n",
    "Chacun de ces pré-traitement était décliné afin de fournir des jeux de tests et d'entrainement différents :\n",
    "1. Un jeu de test BRUT (utilisant du dataset) ;\n",
    "2. Un jeu de test Analysé contenant en plus des données BRUT les valeurs des moyennes, ecart type, min et max ;\n",
    "3. Un jeu de tes Analysé sans les colonnes X, Y, Z et T (X,Y,Z pour le premier pré-traitement, X,Y,Z,T pour le second pré-traitement et T pour le dernier pré-traitement) \n",
    "\n",
    "Ces 3 pré-traitements sont disponibles dans les notebooks : \n",
    "\n",
    "* **Dataset Pré-traitement sans t.ipynb**\n",
    "* **Dataset Pré-traitement avec t.ipynb**\n",
    "* **Dataset Pré-traitement uniquement t.ipynb**\n",
    "\n",
    "Nous avons utilisé l'extension storemagic (intégré de base dans la version de jupyter que nous utilisions) afin de sauvegarder les différents jeux de tests (via **%store variable** et **%store -r variable**).\n",
    "\n",
    "Cela nous permettant de lancer la création des différents jeux de tests et d'entrainements, puis de les utiliser ensuite dans les notesbooks des classifieurs que nous testions"
   ]
  },
  {
   "cell_type": "markdown",
   "metadata": {},
   "source": [
    "\n",
    "## Arbre de décision\n",
    "\n",
    "Le Classifieur Arbre de décision nous a donné les résultat les moins pertinent. \n",
    "\n",
    "Nous par contre pu constater que son analyse était la plus efficace avec les données  analysées contenant T dans lequel nous avons retiré les colonnes d'origines. \n",
    "\n",
    "Nous pensons que cela est lié au fonctionnement de ce classifieur, qui recherche la classe en se basant sur les données les plus discriminantes.\n",
    "\n",
    "Les tests réalisés sur ce classifieur se trouvent dans le notebook : **Dataset Analyse - Decision tree.ipynb**\n",
    "\n",
    "**Ce test doit être lancé après avoir lancé un des trois pré-traitement.**\n",
    "\n",
    "Les résultats affichés correspondent au classifieur avec les paramètres par défaut. La modification de paramètres tel que le max_depth n'ayant eu aucun impact réel sur l'efficacité de l'algorithme\n"
   ]
  },
  {
   "cell_type": "markdown",
   "metadata": {},
   "source": [
    "### Résultat de la recherche du meilleur classifeur arbre de décision avec le Pré-traitement sans T\n",
    "\n",
    "##### ANALYSE AVEC LE JEU DE DONNEES BRUTES : "
   ]
  },
  {
   "cell_type": "code",
   "execution_count": 1,
   "metadata": {
    "collapsed": true
   },
   "outputs": [],
   "source": [
    "#                                     precision    recall  f1-score   support\n",
    "#\n",
    "#                            Courrir       0.60      0.31      0.41        48\n",
    "#                            Marcher       0.67      0.72      0.70        40\n",
    "#                      Ne rien faire       0.60      0.80      0.69        41\n",
    "#S'allonger (depuis position assise)       0.63      0.74      0.68        35\n",
    "#S'allonger (depuis position debout)       0.53      0.67      0.59        36\n",
    "#                  S'assoir (chaise)       0.46      0.30      0.36        37\n",
    "#S'assoir (depuis position allongée)       0.77      0.91      0.83        44\n",
    "#                             Sauter       0.53      0.25      0.34        40\n",
    "#                  Se lever (chaise)       0.31      0.56      0.40        34\n",
    "#Se lever (depuis position allongée)       0.71      0.54      0.61        41\n",
    "#\n",
    "#                        avg / total       0.59      0.58      0.56       396"
   ]
  },
  {
   "cell_type": "markdown",
   "metadata": {},
   "source": [
    "![Graph](images/tree_sans_t_brut.png)"
   ]
  },
  {
   "cell_type": "markdown",
   "metadata": {},
   "source": [
    "##### ANALYSE AVEC LE JEU DE DONNEES ANALYSE : "
   ]
  },
  {
   "cell_type": "code",
   "execution_count": 2,
   "metadata": {
    "collapsed": true
   },
   "outputs": [],
   "source": [
    "#                                     precision    recall  f1-score   support\n",
    "#\n",
    "#                            Courrir       0.56      0.57      0.56        44\n",
    "#                            Marcher       0.65      0.63      0.64        38\n",
    "#                      Ne rien faire       0.98      0.95      0.96        42\n",
    "#S'allonger (depuis position assise)       0.97      0.86      0.91        37\n",
    "#S'allonger (depuis position debout)       0.79      0.66      0.72        41\n",
    "#                  S'assoir (chaise)       0.48      0.75      0.59        32\n",
    "#S'assoir (depuis position allongée)       0.84      0.86      0.85        56\n",
    "#                             Sauter       0.60      0.62      0.61        34\n",
    "#                  Se lever (chaise)       0.61      0.46      0.52        37\n",
    "#Se lever (depuis position allongée)       0.75      0.77      0.76        35\n",
    "#\n",
    "#                        avg / total       0.73      0.72      0.72       396"
   ]
  },
  {
   "cell_type": "markdown",
   "metadata": {},
   "source": [
    "![Graph](images/tree_sans_t_analyse.png)"
   ]
  },
  {
   "cell_type": "markdown",
   "metadata": {},
   "source": [
    "##### ANALYSE AVEC LE JEU DE DDONNEES ANALYSE 2 (Sans X, Y et Z):"
   ]
  },
  {
   "cell_type": "code",
   "execution_count": 3,
   "metadata": {
    "collapsed": true
   },
   "outputs": [],
   "source": [
    "#                                     precision    recall  f1-score   support#\n",
    "#\n",
    "#                            Courrir       0.89      0.73      0.80        45#\n",
    "#                            Marcher       0.78      0.90      0.83        39#\n",
    "#                      Ne rien faire       0.93      1.00      0.96        39#\n",
    "#S'allonger (depuis position assise)       0.60      0.51      0.55        41#\n",
    "#S'allonger (depuis position debout)       0.49      0.59      0.53        41#\n",
    "#                  S'assoir (chaise)       0.57      0.59      0.58        34#\n",
    "#S'assoir (depuis position allongée)       0.61      0.65      0.63        46#\n",
    "#                             Sauter       0.73      0.60      0.66        45#\n",
    "#                  Se lever (chaise)       0.64      0.70      0.67        33#\n",
    "#Se lever (depuis position allongée)       0.58      0.55      0.56        33#\n",
    "#\n",
    "#                        avg / total       0.69      0.68      0.68       396"
   ]
  },
  {
   "cell_type": "markdown",
   "metadata": {},
   "source": [
    "![Graph](images/tree_sans_t_analyse_2.png)"
   ]
  },
  {
   "cell_type": "markdown",
   "metadata": {},
   "source": [
    "\n",
    "\n",
    "### Résultat de la recherche du meilleur classifeur arbre de décision avec le  Pré-traitement avec T\n",
    "\n",
    "##### ANALYSE AVEC LE JEU DE DONNEES BRUTES :"
   ]
  },
  {
   "cell_type": "code",
   "execution_count": 4,
   "metadata": {
    "collapsed": true
   },
   "outputs": [],
   "source": [
    "#                                     precision    recall  f1-score   support#\n",
    "#\n",
    "#                            Courrir       0.35      0.28      0.31        43#\n",
    "#                            Marcher       0.60      0.73      0.66        37#\n",
    "#                      Ne rien faire       0.58      0.71      0.64        41#\n",
    "#S'allonger (depuis position assise)       0.60      0.78      0.68        37#\n",
    "#S'allonger (depuis position debout)       0.53      0.55      0.54        33#\n",
    "#                  S'assoir (chaise)       0.53      0.66      0.59        35#\n",
    "#S'assoir (depuis position allongée)       0.59      0.71      0.65        49#\n",
    "#                             Sauter       0.47      0.18      0.26        44#\n",
    "#                  Se lever (chaise)       0.65      0.46      0.54        37#\n",
    "#Se lever (depuis position allongée)       0.70      0.70      0.70        40#\n",
    "#\n",
    "#                        avg / total       0.56      0.57      0.55       396"
   ]
  },
  {
   "cell_type": "markdown",
   "metadata": {},
   "source": [
    "![Graph](images/tree_avec_t_brut.png)"
   ]
  },
  {
   "cell_type": "markdown",
   "metadata": {},
   "source": [
    "##### ANALYSE AVEC LE JEU DE DONNEES ANALYSE : "
   ]
  },
  {
   "cell_type": "code",
   "execution_count": 5,
   "metadata": {
    "collapsed": true
   },
   "outputs": [],
   "source": [
    "#                                     precision    recall  f1-score   support\n",
    "#\n",
    "#                            Courrir       0.72      0.78      0.75        40\n",
    "#                            Marcher       0.55      0.54      0.55        39\n",
    "#                      Ne rien faire       0.83      1.00      0.91        40\n",
    "#S'allonger (depuis position assise)       0.84      0.73      0.78        44\n",
    "#S'allonger (depuis position debout)       0.76      0.74      0.75        39\n",
    "#                  S'assoir (chaise)       0.50      0.29      0.37        41\n",
    "#S'assoir (depuis position allongée)       0.80      0.73      0.76        44\n",
    "#                             Sauter       0.73      0.60      0.66        40\n",
    "#                  Se lever (chaise)       0.50      0.78      0.61        37\n",
    "#Se lever (depuis position allongée)       0.67      0.75      0.71        32\n",
    "#\n",
    "#                        avg / total       0.69      0.69      0.69       396"
   ]
  },
  {
   "cell_type": "markdown",
   "metadata": {},
   "source": [
    "![Graph](images/tree_avec_t_analyse.png)"
   ]
  },
  {
   "cell_type": "markdown",
   "metadata": {},
   "source": [
    "##### ANALYSE AVEC LE JEU DE DDONNEES ANALYSE 2 (Sans X, Y , Z et T):"
   ]
  },
  {
   "cell_type": "code",
   "execution_count": 6,
   "metadata": {
    "collapsed": true
   },
   "outputs": [],
   "source": [
    "#                                     precision    recall  f1-score   support#\n",
    "#\n",
    "#                            Courrir       0.82      0.73      0.78        45#\n",
    "#                            Marcher       0.91      0.43      0.59        46#\n",
    "#                      Ne rien faire       0.97      0.95      0.96        38#\n",
    "#S'allonger (depuis position assise)       0.74      0.79      0.76        43#\n",
    "#S'allonger (depuis position debout)       0.46      0.41      0.43        44#\n",
    "#                  S'assoir (chaise)       0.40      0.68      0.51        28#\n",
    "#S'assoir (depuis position allongée)       0.60      0.76      0.67        41#\n",
    "#                             Sauter       0.54      0.75      0.63        36#\n",
    "#                  Se lever (chaise)       0.81      0.58      0.68        38#\n",
    "#Se lever (depuis position allongée)       0.56      0.54      0.55        37#\n",
    "#\n",
    "#                        avg / total       0.69      0.66      0.66       396"
   ]
  },
  {
   "cell_type": "markdown",
   "metadata": {},
   "source": [
    "![Graph](images/tree_avec_t_analyse_2.png)"
   ]
  },
  {
   "cell_type": "markdown",
   "metadata": {},
   "source": [
    "\n",
    "### Résultat de la recherche du meilleur classifeur arbre de décision avec le  Pré-traitement uniquement T\n",
    "\n",
    "##### ANALYSE AVEC LE JEU DE DONNEES BRUTES :\n"
   ]
  },
  {
   "cell_type": "code",
   "execution_count": 7,
   "metadata": {
    "collapsed": true
   },
   "outputs": [],
   "source": [
    "#                                     precision    recall  f1-score   support#\n",
    "#\n",
    "#                            Courrir       0.52      0.36      0.43        44#\n",
    "#                            Marcher       0.48      0.33      0.39        43#\n",
    "#                      Ne rien faire       0.56      0.87      0.68        39#\n",
    "#S'allonger (depuis position assise)       0.54      0.70      0.61        37#\n",
    "#S'allonger (depuis position debout)       0.55      0.46      0.50        39#\n",
    "#                  S'assoir (chaise)       0.36      0.37      0.36        38#\n",
    "#S'assoir (depuis position allongée)       0.50      0.56      0.53        41#\n",
    "#                             Sauter       0.63      0.42      0.51        40#\n",
    "#                  Se lever (chaise)       0.44      0.44      0.44        39#\n",
    "#Se lever (depuis position allongée)       0.40      0.47      0.43        36#\n",
    "#\n",
    "#                        avg / total       0.50      0.49      0.49       396"
   ]
  },
  {
   "cell_type": "markdown",
   "metadata": {},
   "source": [
    "![Graph](images/tree_uniquement_t_brut.png)"
   ]
  },
  {
   "cell_type": "markdown",
   "metadata": {},
   "source": [
    "##### ANALYSE AVEC LE JEU DE DONNEES ANALYSE : "
   ]
  },
  {
   "cell_type": "code",
   "execution_count": 8,
   "metadata": {
    "collapsed": true
   },
   "outputs": [],
   "source": [
    "#                                     precision    recall  f1-score   support\n",
    "#\n",
    "#                            Courrir       0.81      0.56      0.67        39\n",
    "#                            Marcher       0.72      0.83      0.77        35\n",
    "#                      Ne rien faire       0.98      1.00      0.99        41\n",
    "#S'allonger (depuis position assise)       0.69      0.71      0.70        48\n",
    "#S'allonger (depuis position debout)       0.59      0.60      0.59        40\n",
    "#                  S'assoir (chaise)       0.53      0.56      0.54        34\n",
    "#S'assoir (depuis position allongée)       0.59      0.73      0.65        45\n",
    "#                             Sauter       0.61      0.48      0.53        42\n",
    "#                  Se lever (chaise)       0.42      0.55      0.47        33\n",
    "#Se lever (depuis position allongée)       0.62      0.46      0.53        39\n",
    "#\n",
    "#                        avg / total       0.66      0.65      0.65       396"
   ]
  },
  {
   "cell_type": "markdown",
   "metadata": {},
   "source": [
    "![Graph](images/tree_uniquement_t_analyse.png)"
   ]
  },
  {
   "cell_type": "markdown",
   "metadata": {},
   "source": [
    "##### ANALYSE AVEC LE JEU DE DDONNEES ANALYSE 2 (Sans X, Y et Z):"
   ]
  },
  {
   "cell_type": "code",
   "execution_count": 9,
   "metadata": {
    "collapsed": true
   },
   "outputs": [],
   "source": [
    "#                                     precision    recall  f1-score   support#\n",
    "#\n",
    "#                            Courrir       0.86      0.72      0.78        43#\n",
    "#                            Marcher       0.60      0.62      0.61        39#\n",
    "#                      Ne rien faire       0.97      1.00      0.99        39#\n",
    "#S'allonger (depuis position assise)       0.50      0.68      0.58        41#\n",
    "#S'allonger (depuis position debout)       0.49      0.57      0.53        40#\n",
    "#                  S'assoir (chaise)       0.25      0.19      0.22        37#\n",
    "#S'assoir (depuis position allongée)       0.51      0.37      0.43        49#\n",
    "#                             Sauter       0.74      0.86      0.80        37#\n",
    "#                  Se lever (chaise)       0.33      0.44      0.38        32#\n",
    "#Se lever (depuis position allongée)       0.38      0.28      0.32        39#\n",
    "#\n",
    "#                        avg / total       0.57      0.57      0.57       396"
   ]
  },
  {
   "cell_type": "markdown",
   "metadata": {},
   "source": [
    "![Graph](images/tree_uniquement_t_analyse_2.png)"
   ]
  },
  {
   "cell_type": "markdown",
   "metadata": {},
   "source": [
    "## Multi-layer Perceptron"
   ]
  },
  {
   "cell_type": "markdown",
   "metadata": {},
   "source": [
    "Le Classifieur Multi-layer Perceptron nous a donné des résultat efficaces, cela est surement du à sa capacité à ingérer les différentes données sur plusieurs \"neurones\". \n",
    "\n",
    "Les tests réalisés sur ce classifieur se trouvent dans le notebook : **Dataset Analyse MLP.ipynb**\n",
    "\n",
    "**Ce test doit être lancé après avoir lancé un des trois pré-traitement.**\n",
    "\n",
    "Lors ce ces différents tests, nous avons chercher le meilleur classifieur en testant différentes configuration de couches de neurones allant de 100 à 900 avec 2 niveaux de profondeur via le paramètre **hidden_layer_sizes** (100 à 900), (100 à 900).\n",
    "\n",
    "Les résultats affichés correspondent au meilleur classifieur trouvé pour chaque jeux "
   ]
  },
  {
   "cell_type": "markdown",
   "metadata": {},
   "source": [
    "### Résultat de la recherche du meilleur classifeur MLP avec le Pré-traitement sans T\n",
    "\n",
    "##### ANALYSE AVEC LE JEU DE DONNEES BRUTES : \n"
   ]
  },
  {
   "cell_type": "code",
   "execution_count": 10,
   "metadata": {
    "collapsed": true
   },
   "outputs": [],
   "source": [
    "#                                     precision    recall  f1-score   support#\n",
    "#\n",
    "#                            Courrir       0.83      0.47      0.60        40#\n",
    "#                            Marcher       0.82      0.72      0.77        43#\n",
    "#                      Ne rien faire       0.54      0.90      0.68        41#\n",
    "#S'allonger (depuis position assise)       0.92      0.79      0.85        43#\n",
    "#S'allonger (depuis position debout)       0.75      0.92      0.83        39#\n",
    "#                  S'assoir (chaise)       0.69      0.82      0.75        33#\n",
    "#S'assoir (depuis position allongée)       0.86      0.86      0.86        49#\n",
    "#                             Sauter       0.66      0.55      0.60        38#\n",
    "#                  Se lever (chaise)       0.80      0.63      0.71        38#\n",
    "#Se lever (depuis position allongée)       0.66      0.66      0.66        32#\n",
    "#\n",
    "#                        avg / total       0.76      0.74      0.74       396"
   ]
  },
  {
   "cell_type": "markdown",
   "metadata": {},
   "source": [
    "![Graph](images/npu_analyse_sans_t_brut.png)\n"
   ]
  },
  {
   "cell_type": "markdown",
   "metadata": {},
   "source": [
    "##### ANALYSE AVEC LE JEU DE DONNEES ANALYSE : "
   ]
  },
  {
   "cell_type": "code",
   "execution_count": 11,
   "metadata": {
    "collapsed": true
   },
   "outputs": [],
   "source": [
    "#                                     precision    recall  f1-score   support#\n",
    "#\n",
    "#                            Courrir       0.78      0.40      0.53        45#\n",
    "#                            Marcher       0.80      0.97      0.88        38#\n",
    "#                      Ne rien faire       0.97      1.00      0.99        39#\n",
    "#S'allonger (depuis position assise)       0.91      0.93      0.92        42#\n",
    "#S'allonger (depuis position debout)       0.77      0.88      0.82        34#\n",
    "#                  S'assoir (chaise)       0.76      0.89      0.82        38#\n",
    "#S'assoir (depuis position allongée)       0.89      0.93      0.91        44#\n",
    "#                             Sauter       0.59      0.57      0.58        42#\n",
    "#                  Se lever (chaise)       0.81      0.79      0.80        38#\n",
    "#Se lever (depuis position allongée)       0.83      0.83      0.83        36#\n",
    "#\n",
    "#                        avg / total       0.81      0.81      0.80       396#"
   ]
  },
  {
   "cell_type": "markdown",
   "metadata": {},
   "source": [
    "![Graph](images/npu_analyse_sans_t_analyse.png)"
   ]
  },
  {
   "cell_type": "markdown",
   "metadata": {},
   "source": [
    "##### ANALYSE AVEC LE JEU DE DDONNEES ANALYSE 2 (Sans X, Y et Z):"
   ]
  },
  {
   "cell_type": "code",
   "execution_count": 12,
   "metadata": {
    "collapsed": true
   },
   "outputs": [],
   "source": [
    "#                                     precision    recall  f1-score   support#\n",
    "#\n",
    "#                            Courrir       0.83      0.83      0.83        42#\n",
    "#                            Marcher       0.82      0.93      0.87        40#\n",
    "#                      Ne rien faire       0.97      1.00      0.99        35#\n",
    "#S'allonger (depuis position assise)       0.64      0.86      0.73        35#\n",
    "#S'allonger (depuis position debout)       0.71      0.65      0.68        37#\n",
    "#                  S'assoir (chaise)       0.64      0.72      0.68        40#\n",
    "#S'assoir (depuis position allongée)       0.77      0.68      0.72        50#\n",
    "#                             Sauter       0.78      0.84      0.81        38#\n",
    "#                  Se lever (chaise)       0.62      0.55      0.58        38#\n",
    "#Se lever (depuis position allongée)       0.64      0.44      0.52        41#\n",
    "#\n",
    "#                        avg / total       0.74      0.74      0.74       396#"
   ]
  },
  {
   "cell_type": "markdown",
   "metadata": {},
   "source": [
    "![Graph](images/npu_analyse_sans_t_analyse_2.png)"
   ]
  },
  {
   "cell_type": "markdown",
   "metadata": {},
   "source": [
    "\n",
    "\n",
    "### Résultat de la recherche du meilleur classifeur MLP avec le  Pré-traitement avec T\n",
    "\n"
   ]
  },
  {
   "cell_type": "markdown",
   "metadata": {},
   "source": [
    "##### ANALYSE AVEC LE JEU DE DONNEES BRUTES : "
   ]
  },
  {
   "cell_type": "code",
   "execution_count": 13,
   "metadata": {
    "collapsed": true
   },
   "outputs": [],
   "source": [
    "#                                     precision    recall  f1-score   support#\n",
    "#\n",
    "#                            Courrir       0.94      0.40      0.57        42#\n",
    "#                            Marcher       0.76      0.67      0.71        42#\n",
    "#                      Ne rien faire       0.67      0.88      0.76        40#\n",
    "#S'allonger (depuis position assise)       0.90      0.90      0.90        42#\n",
    "#S'allonger (depuis position debout)       0.65      0.89      0.75        35#\n",
    "#                  S'assoir (chaise)       0.77      0.75      0.76        40#\n",
    "#S'assoir (depuis position allongée)       0.68      0.87      0.77        47#\n",
    "#                             Sauter       0.62      0.74      0.68        35#\n",
    "#                  Se lever (chaise)       0.78      0.76      0.77        33#\n",
    "#Se lever (depuis position allongée)       0.73      0.47      0.58        40#\n",
    "#\n",
    "#                        avg / total       0.75      0.73      0.72       396#"
   ]
  },
  {
   "cell_type": "markdown",
   "metadata": {},
   "source": [
    "![Graph](images/npu_analyse_avec_t_brut.png)"
   ]
  },
  {
   "cell_type": "markdown",
   "metadata": {},
   "source": [
    "##### ANALYSE AVEC LE JEU DE DONNEES ANALYSE : "
   ]
  },
  {
   "cell_type": "code",
   "execution_count": 14,
   "metadata": {
    "collapsed": true
   },
   "outputs": [],
   "source": [
    "#                                     precision    recall  f1-score   support#\n",
    "#\n",
    "#                            Courrir       0.84      0.55      0.67        38#\n",
    "#                            Marcher       0.82      0.86      0.84        36#\n",
    "#                      Ne rien faire       0.82      0.94      0.88        34#\n",
    "#S'allonger (depuis position assise)       0.91      0.95      0.93        44#\n",
    "#S'allonger (depuis position debout)       0.89      0.86      0.87        36#\n",
    "#                  S'assoir (chaise)       0.73      0.78      0.75        41#\n",
    "#S'assoir (depuis position allongée)       0.85      0.80      0.83        51#\n",
    "#                             Sauter       0.63      0.85      0.73        39#\n",
    "#                  Se lever (chaise)       0.91      0.80      0.85        40#\n",
    "#Se lever (depuis position allongée)       0.76      0.70      0.73        37#\n",
    "#\n",
    "#                        avg / total       0.82      0.81      0.81       396#"
   ]
  },
  {
   "cell_type": "markdown",
   "metadata": {},
   "source": [
    "![Graph](images/npu_analyse_avec_t_analyse.png)"
   ]
  },
  {
   "cell_type": "markdown",
   "metadata": {},
   "source": [
    "##### ANALYSE AVEC LE JEU DE DDONNEES ANALYSE 2 (Sans X, Y, Z et T):"
   ]
  },
  {
   "cell_type": "code",
   "execution_count": 15,
   "metadata": {
    "collapsed": true
   },
   "outputs": [],
   "source": [
    "#                                     precision    recall  f1-score   support#\n",
    "#\n",
    "#                            Courrir       0.88      0.84      0.86        44#\n",
    "#                            Marcher       0.88      0.86      0.87        42#\n",
    "#                      Ne rien faire       0.97      0.95      0.96        39#\n",
    "#S'allonger (depuis position assise)       0.63      0.76      0.69        41#\n",
    "#S'allonger (depuis position debout)       0.45      0.39      0.41        44#\n",
    "#                  S'assoir (chaise)       0.58      0.54      0.56        35#\n",
    "#S'assoir (depuis position allongée)       0.73      0.78      0.76        46#\n",
    "#                             Sauter       0.82      0.95      0.88        38#\n",
    "#                  Se lever (chaise)       0.57      0.71      0.63        35#\n",
    "#Se lever (depuis position allongée)       0.50      0.28      0.36        32#\n",
    "#\n",
    "#                        avg / total       0.71      0.71      0.71       396 #"
   ]
  },
  {
   "cell_type": "markdown",
   "metadata": {},
   "source": [
    "![Graph](images/npu_analyse_avec_t_analyse_2.png)"
   ]
  },
  {
   "cell_type": "markdown",
   "metadata": {},
   "source": [
    "\n",
    "\n",
    "### Résultat de la recherche du meilleur classifeur MLP avec le  Pré-traitement avec T\n",
    "\n",
    "\n"
   ]
  },
  {
   "cell_type": "markdown",
   "metadata": {},
   "source": [
    "##### ANALYSE AVEC LE JEU DE DONNEES BRUTES : \n"
   ]
  },
  {
   "cell_type": "code",
   "execution_count": 16,
   "metadata": {
    "collapsed": true
   },
   "outputs": [],
   "source": [
    "#                                     precision    recall  f1-score   support#\n",
    "#\n",
    "#                            Courrir       0.59      0.23      0.33        43#\n",
    "#                            Marcher       0.57      0.77      0.65        39#\n",
    "#                      Ne rien faire       0.67      1.00      0.80        43#\n",
    "#S'allonger (depuis position assise)       0.90      0.68      0.78        41#\n",
    "#S'allonger (depuis position debout)       0.70      0.70      0.70        37#\n",
    "#                  S'assoir (chaise)       0.57      0.61      0.59        33#\n",
    "#S'assoir (depuis position allongée)       0.54      0.69      0.61        45#\n",
    "#                             Sauter       0.65      0.67      0.66        36#\n",
    "#                  Se lever (chaise)       0.68      0.68      0.68        38#\n",
    "#Se lever (depuis position allongée)       0.63      0.41      0.50        41#\n",
    "#\n",
    "#                        avg / total       0.65      0.64      0.63       396#"
   ]
  },
  {
   "cell_type": "markdown",
   "metadata": {},
   "source": [
    "![Graph](images/npu_analyse_uniquement_t_brut.png)"
   ]
  },
  {
   "cell_type": "markdown",
   "metadata": {},
   "source": [
    "##### ANALYSE AVEC LE JEU DE DONNEES ANALYSE : \n"
   ]
  },
  {
   "cell_type": "code",
   "execution_count": 17,
   "metadata": {
    "collapsed": true
   },
   "outputs": [],
   "source": [
    "#                                     precision    recall  f1-score   support#\n",
    "#\n",
    "#                            Courrir       0.83      0.21      0.33        48#\n",
    "#                            Marcher       0.43      0.71      0.53        41#\n",
    "#                      Ne rien faire       0.89      1.00      0.94        34#\n",
    "#S'allonger (depuis position assise)       0.67      0.74      0.71        39#\n",
    "#S'allonger (depuis position debout)       0.62      0.67      0.64        42#\n",
    "#                  S'assoir (chaise)       0.63      0.85      0.72        34#\n",
    "#S'assoir (depuis position allongée)       0.65      0.73      0.69        41#\n",
    "#                             Sauter       0.62      0.36      0.45        42#\n",
    "#                  Se lever (chaise)       0.71      0.80      0.75        40#\n",
    "#Se lever (depuis position allongée)       0.48      0.40      0.44        35#\n",
    "#\n",
    "#                        avg / total       0.66      0.63      0.61       396#"
   ]
  },
  {
   "cell_type": "markdown",
   "metadata": {},
   "source": [
    "![Graph](images/npu_analyse_uniquement_t_analyse.png)"
   ]
  },
  {
   "cell_type": "markdown",
   "metadata": {},
   "source": [
    "##### ANALYSE AVEC LE JEU DE DDONNEES ANALYSE 2 (Sans T):\n"
   ]
  },
  {
   "cell_type": "code",
   "execution_count": 18,
   "metadata": {
    "collapsed": true
   },
   "outputs": [],
   "source": [
    "#                                     precision    recall  f1-score   support#\n",
    "#\n",
    "#                            Courrir       0.76      0.67      0.71        39#\n",
    "#                            Marcher       0.76      0.62      0.68        40#\n",
    "#                      Ne rien faire       0.95      0.95      0.95        38#\n",
    "#S'allonger (depuis position assise)       0.46      0.41      0.43        44#\n",
    "#S'allonger (depuis position debout)       0.73      0.42      0.54        45#\n",
    "#                  S'assoir (chaise)       0.33      0.40      0.36        35#\n",
    "#S'assoir (depuis position allongée)       0.52      0.53      0.53        45#\n",
    "#                             Sauter       0.61      0.94      0.74        35#\n",
    "#                  Se lever (chaise)       0.37      0.41      0.38        37#\n",
    "#Se lever (depuis position allongée)       0.40      0.45      0.42        38#\n",
    "#\n",
    "#                        avg / total       0.59      0.57      0.57       396"
   ]
  },
  {
   "cell_type": "markdown",
   "metadata": {},
   "source": [
    "## Knn"
   ]
  },
  {
   "cell_type": "markdown",
   "metadata": {},
   "source": [
    "Le Classifieur K plus proches voisin nous a donné les meilleurs résultats de part sa capacité à rechercher des classes en se basant sur les données les plus ressemblantes.\n",
    "\n",
    "Les tests réalisés sur ce classifieur se trouvent dans le notebook : **Dataset Analyse Knn.ipynb**\n",
    "\n",
    "**Ce test doit être lancé après avoir lancé un des trois pré-traitement.**\n",
    "\n",
    "Lors de ce test, nous avons testé avec des parametres relativements différents paramètres de configurations : \n",
    "* n_neighbors\n",
    "* weights\n",
    "* p\n",
    "* algorithm\n",
    "\n",
    "*n_neighbors* (nombre de voisins le plus proche) est le paramètres ayant le plus d'influence (comme nous pouvons le voir sur l'image qui suit). Cette courbe est semblable sur chaque Knn testé.\n",
    "\n",
    "![Influence de n_neighbors](images/knn_analyse_avec_t_analyse.png)\n",
    "\n",
    "le paramètre p a quand à lui eu influence sur l'efficacité de l'algorithme. quand ce dernier à la valeur 1 ( [distance de Manathan](https://fr.wikipedia.org/wiki/Distance_de_Manhattan) à la place de la [distance euclidienne](https://fr.wikipedia.org/wiki/Espace_euclidien), nous gagnons en moyennes 2 à 3% d'efficacité.\n",
    "\n",
    "Le paramètre weights et algorithm, n'ont eu aucune influence sur l'efficacité de cet l'algorithme."
   ]
  },
  {
   "cell_type": "markdown",
   "metadata": {},
   "source": [
    "\n",
    "\n",
    "### Résultat de la recherche du meilleur classifeur Knn avec le  Pré-traitement sans T\n",
    "\n",
    "\n"
   ]
  },
  {
   "cell_type": "markdown",
   "metadata": {},
   "source": [
    "##### ANALYSE AVEC LE JEU DE DONNEES BRUT  : "
   ]
  },
  {
   "cell_type": "code",
   "execution_count": 19,
   "metadata": {
    "collapsed": true
   },
   "outputs": [],
   "source": [
    "#                                     precision    recall  f1-score   support\n",
    "#\n",
    "#                            Courrir       1.00      0.31      0.47        45\n",
    "#                            Marcher       0.85      0.77      0.81        44\n",
    "#                      Ne rien faire       0.40      0.95      0.56        40\n",
    "#S'allonger (depuis position assise)       0.78      1.00      0.88        39\n",
    "#S'allonger (depuis position debout)       0.88      0.70      0.78        40\n",
    "#                  S'assoir (chaise)       0.54      0.51      0.53        37\n",
    "#S'assoir (depuis position allongée)       0.91      0.95      0.93        44\n",
    "#                             Sauter       1.00      0.51      0.68        37\n",
    "#                  Se lever (chaise)       0.47      0.49      0.48        35\n",
    "#Se lever (depuis position allongée)       0.97      0.80      0.88        35#\n",
    "\n",
    "#                        avg / total       0.79      0.70      0.70       396"
   ]
  },
  {
   "cell_type": "markdown",
   "metadata": {},
   "source": [
    "##### ANALYSE AVEC LE JEU DE DONNEES ANALYSE :"
   ]
  },
  {
   "cell_type": "code",
   "execution_count": 20,
   "metadata": {
    "collapsed": true
   },
   "outputs": [],
   "source": [
    "#                                     precision    recall  f1-score   support\n",
    "#\n",
    "#                            Courrir       1.00      0.60      0.75        45\n",
    "#                            Marcher       0.88      0.96      0.91        45\n",
    "#                      Ne rien faire       0.78      0.95      0.86        42\n",
    "#S'allonger (depuis position assise)       0.79      0.96      0.86        46\n",
    "#S'allonger (depuis position debout)       0.87      0.67      0.75        39\n",
    "#                  S'assoir (chaise)       0.72      0.68      0.70        38\n",
    "#S'assoir (depuis position allongée)       0.89      0.89      0.89        45\n",
    "#                             Sauter       0.92      0.69      0.79        35\n",
    "#                  Se lever (chaise)       0.54      0.83      0.66        30\n",
    "#Se lever (depuis position allongée)       0.87      0.84      0.85        31\n",
    "#\n",
    "#                        avg / total       0.83      0.81      0.81       396"
   ]
  },
  {
   "cell_type": "markdown",
   "metadata": {},
   "source": [
    "##### ANALYSE AVEC LE JEU DE DONNEES ANALYSE 2 (Sans T):"
   ]
  },
  {
   "cell_type": "code",
   "execution_count": 21,
   "metadata": {
    "collapsed": true
   },
   "outputs": [],
   "source": [
    "#                                     precision    recall  f1-score   support\n",
    "#\n",
    "#                            Courrir       0.89      0.77      0.83        44\n",
    "#                            Marcher       0.84      0.88      0.86        41\n",
    "#                     Ne rien faire       0.95      1.00      0.97        36\n",
    "#S'allonger (depuis position assise)       0.86      0.73      0.79        44\n",
    "#S'allonger (depuis position debout)       0.68      0.59      0.63        39\n",
    "#                  S'assoir (chaise)       0.51      0.67      0.58        39\n",
    "#S'assoir (depuis position allongée)       0.69      0.86      0.77        42\n",
    "#                             Sauter       0.74      0.82      0.78        39\n",
    "#                  Se lever (chaise)       0.65      0.37      0.47        41\n",
    "#Se lever (depuis position allongée)       0.68      0.81      0.74        31#\n",
    "#\n",
    "#                        avg / total       0.75      0.74      0.74       396"
   ]
  },
  {
   "cell_type": "markdown",
   "metadata": {},
   "source": [
    "\n",
    "\n",
    "### Résultat de la recherche du meilleur classifeur Knn avec le  Pré-traitement avec T\n",
    "\n",
    "\n"
   ]
  },
  {
   "cell_type": "markdown",
   "metadata": {},
   "source": [
    "##### ANALYSE AVEC LE JEU DE DONNEES BRUT  : "
   ]
  },
  {
   "cell_type": "code",
   "execution_count": 22,
   "metadata": {
    "collapsed": true
   },
   "outputs": [],
   "source": [
    "#                                     precision    recall  f1-score   support\n",
    "#                            Courrir       1.00      0.27      0.42        45\n",
    "#                            Marcher       0.73      0.71      0.72        42\n",
    "#                      Ne rien faire       0.42      1.00      0.59        38\n",
    "#S'allonger (depuis position assise)       0.78      0.98      0.87        41\n",
    "#S'allonger (depuis position debout)       0.81      0.54      0.65        39\n",
    "#                  S'assoir (chaise)       0.58      0.62      0.60        34\n",
    "#S'assoir (depuis position allongée)       0.81      0.86      0.83        49\n",
    "#                             Sauter       0.90      0.45      0.60        40\n",
    "#                  Se lever (chaise)       0.38      0.42      0.40        31\n",
    "#Se lever (depuis position allongée)       0.73      0.65      0.69        37\n",
    "\n",
    "#                        avg / total       0.73      0.65      0.65       396\n"
   ]
  },
  {
   "cell_type": "markdown",
   "metadata": {},
   "source": [
    "##### ANALYSE AVEC LE JEU DE DONNEES ANALYSE :"
   ]
  },
  {
   "cell_type": "code",
   "execution_count": 23,
   "metadata": {
    "collapsed": true
   },
   "outputs": [],
   "source": [
    "#                                     precision    recall  f1-score   support#\n",
    "#\n",
    "#                            Courrir       1.00      0.56      0.72        39\n",
    "#                            Marcher       0.78      0.86      0.82        42\n",
    "#                      Ne rien faire       0.72      1.00      0.83        43\n",
    "#S'allonger (depuis position assise)       0.83      0.95      0.89        41\n",
    "#S'allonger (depuis position debout)       0.94      0.82      0.88        39\n",
    "#                  S'assoir (chaise)       0.75      0.60      0.67        40\n",
    "#S'assoir (depuis position allongée)       0.81      0.96      0.88        48\n",
    "#                             Sauter       0.92      0.67      0.77        36\n",
    "#                  Se lever (chaise)       0.65      0.82      0.73        34\n",
    "#Se lever (depuis position allongée)       0.86      0.74      0.79        34#\n",
    "\n",
    "#                        avg / total       0.83      0.81      0.80       396\n",
    "    "
   ]
  },
  {
   "cell_type": "markdown",
   "metadata": {},
   "source": [
    "##### ANALYSE AVEC LE JEU DE DONNEES ANALYSE 2 (Sans X, Y, Z et T):"
   ]
  },
  {
   "cell_type": "code",
   "execution_count": 24,
   "metadata": {
    "collapsed": true
   },
   "outputs": [],
   "source": [
    "#Detailed classification report:\n",
    "#\n",
    "#                                     precision    recall  f1-score   support#\n",
    "#\n",
    "#                            Courrir       0.80      0.83      0.81        42\n",
    "#                            Marcher       0.88      0.95      0.91        38\n",
    "#                      Ne rien faire       0.97      0.87      0.92        39\n",
    "#S'allonger (depuis position assise)       0.76      0.88      0.81        40\n",
    "#S'allonger (depuis position debout)       0.81      0.68      0.74        37\n",
    "#                  S'assoir (chaise)       0.46      0.58      0.51        33\n",
    "#S'assoir (depuis position allongée)       0.80      0.74      0.77        54\n",
    "#                             Sauter       0.78      0.78      0.78        40\n",
    "#                  Se lever (chaise)       0.68      0.57      0.62        37\n",
    "#Se lever (depuis position allongée)       0.62      0.64      0.63        36#\n",
    "#\n",
    "#                        avg / total       0.76      0.76      0.76       396\n",
    "    "
   ]
  },
  {
   "cell_type": "markdown",
   "metadata": {},
   "source": [
    "\n",
    "\n",
    "### Résultat de la recherche du meilleur classifeur Knn avec le  Pré-traitement avec T\n",
    "\n",
    "\n"
   ]
  },
  {
   "cell_type": "markdown",
   "metadata": {},
   "source": [
    "##### ANALYSE AVEC LE JEU DE DONNEES BRUT  : "
   ]
  },
  {
   "cell_type": "code",
   "execution_count": 25,
   "metadata": {
    "collapsed": true
   },
   "outputs": [],
   "source": [
    "#                                     precision    recall  f1-score   support\n",
    "#\n",
    "#                            Courrir       1.00      0.30      0.46        40\n",
    "#                            Marcher       0.60      0.72      0.65        39\n",
    "#                      Ne rien faire       0.45      1.00      0.62        39\n",
    "#S'allonger (depuis position assise)       0.69      0.73      0.71        45\n",
    "#S'allonger (depuis position debout)       0.69      0.56      0.62        36\n",
    "#                  S'assoir (chaise)       0.50      0.57      0.53        37\n",
    "#S'assoir (depuis position allongée)       0.53      0.57      0.55        46\n",
    "#                             Sauter       0.86      0.50      0.63        36\n",
    "#                  Se lever (chaise)       0.39      0.49      0.43        37\n",
    "#Se lever (depuis position allongée)       0.75      0.29      0.42        41\n",
    "#\n",
    "#                        avg / total       0.65      0.57      0.56       396"
   ]
  },
  {
   "cell_type": "markdown",
   "metadata": {},
   "source": [
    "##### ANALYSE AVEC LE JEU DE DONNEES ANALYSE  : "
   ]
  },
  {
   "cell_type": "code",
   "execution_count": 26,
   "metadata": {
    "collapsed": true
   },
   "outputs": [],
   "source": [
    "#                                     precision    recall  f1-score   support#\n",
    "#\n",
    "#                            Courrir       0.94      0.44      0.60        39\n",
    "#                            Marcher       0.64      0.68      0.66        37\n",
    "#                      Ne rien faire       0.72      1.00      0.84        42\n",
    "#S'allonger (depuis position assise)       0.74      0.78      0.76        40\n",
    "#S'allonger (depuis position debout)       0.74      0.78      0.76        40\n",
    "#                  S'assoir (chaise)       0.59      0.54      0.56        37\n",
    "#S'assoir (depuis position allongée)       0.49      0.84      0.62        43\n",
    "#                             Sauter       0.83      0.63      0.72        38\n",
    "#                  Se lever (chaise)       0.64      0.73      0.68        37\n",
    "#Se lever (depuis position allongée)       0.68      0.30      0.42        43#\n",
    "#\n",
    "#                        avg / total       0.70      0.67      0.66       396"
   ]
  },
  {
   "cell_type": "markdown",
   "metadata": {},
   "source": [
    "##### ANALYSE AVEC LE JEU DE DONNEES ANALYSE 2 (Sans T)  : "
   ]
  },
  {
   "cell_type": "code",
   "execution_count": 27,
   "metadata": {
    "collapsed": true
   },
   "outputs": [],
   "source": [
    "#                                     precision    recall  f1-score   support\n",
    "#\n",
    "#                            Courrir       0.86      0.76      0.81        42\n",
    "#                            Marcher       0.58      0.70      0.64        40\n",
    "#                      Ne rien faire       0.97      0.95      0.96        39\n",
    "#S'allonger (depuis position assise)       0.57      0.49      0.53        41\n",
    "#S'allonger (depuis position debout)       0.44      0.64      0.52        36\n",
    "#                  S'assoir (chaise)       0.41      0.24      0.30        38\n",
    "#S'assoir (depuis position allongée)       0.57      0.52      0.54        48\n",
    "#                             Sauter       0.78      0.70      0.74        40\n",
    "#                  Se lever (chaise)       0.46      0.69      0.55        35\n",
    "#Se lever (depuis position allongée)       0.31      0.27      0.29        37#\n",
    "#\n",
    "#                        avg / total       0.60      0.60      0.59       396"
   ]
  },
  {
   "cell_type": "markdown",
   "metadata": {},
   "source": [
    "# Meilleur classifieur  : KNeighborsClassifier \n",
    "\n"
   ]
  },
  {
   "cell_type": "code",
   "execution_count": 28,
   "metadata": {
    "collapsed": true
   },
   "outputs": [],
   "source": [
    "#KNeighborsClassifier(algorithm='ball_tree', leaf_size=30, metric='minkowski',\n",
    "#           metric_params=None, n_jobs=1, n_neighbors=1, p=1,\n",
    "#           weights='uniform')\n"
   ]
  },
  {
   "cell_type": "code",
   "execution_count": 29,
   "metadata": {
    "collapsed": true
   },
   "outputs": [],
   "source": [
    "#                                     precision    recall  f1-score   support#\n",
    "#\n",
    "#                            Courrir       1.00      0.56      0.72        39\n",
    "#                            Marcher       0.78      0.86      0.82        42\n",
    "#                      Ne rien faire       0.72      1.00      0.83        43\n",
    "#S'allonger (depuis position assise)       0.83      0.95      0.89        41\n",
    "#S'allonger (depuis position debout)       0.94      0.82      0.88        39\n",
    "#                  S'assoir (chaise)       0.75      0.60      0.67        40\n",
    "#S'assoir (depuis position allongée)       0.81      0.96      0.88        48\n",
    "#                             Sauter       0.92      0.67      0.77        36\n",
    "#                  Se lever (chaise)       0.65      0.82      0.73        34\n",
    "#Se lever (depuis position allongée)       0.86      0.74      0.79        34#\n",
    "\n",
    "#                        avg / total       0.83      0.81      0.80       396"
   ]
  },
  {
   "cell_type": "markdown",
   "metadata": {},
   "source": [
    "**Exemples de prédictions obtenu avec ce classifieur (17 résultat corrects sur 20) : **"
   ]
  },
  {
   "cell_type": "code",
   "execution_count": 30,
   "metadata": {
    "collapsed": true
   },
   "outputs": [],
   "source": [
    "#prédit :  [\"S'assoir (chaise)\"] \n",
    "# attendu :  [\"S'assoir (chaise)\"]\n",
    "#prédit :  [\"S'assoir (chaise)\"] \n",
    "# attendu :  [\"S'assoir (chaise)\"]\n",
    "#prédit :  ['Se lever (depuis position allongée)'] \n",
    "# attendu :  ['Se lever (depuis position allongée)']\n",
    "#prédit :  ['Courrir'] \n",
    "# attendu :  ['Courrir']\n",
    "#prédit :  ['Se lever (chaise)'] \n",
    "# attendu :  ['Se lever (chaise)']\n",
    "#prédit :  ['Se lever (chaise)'] \n",
    "# attendu :  [\"S'assoir (chaise)\"]\n",
    "#prédit :  ['Sauter'] \n",
    "# attendu :  ['Sauter']\n",
    "#prédit :  [\"S'allonger (depuis position assise)\"] \n",
    "# attendu :  [\"S'allonger (depuis position assise)\"]\n",
    "#prédit :  ['Se lever (depuis position allongée)'] \n",
    "# attendu :  ['Se lever (depuis position allongée)']\n",
    "#prédit :  ['Sauter'] \n",
    "# attendu :  ['Sauter']\n",
    "#prédit :  [\"S'allonger (depuis position assise)\"] \n",
    "# attendu :  [\"S'allonger (depuis position assise)\"]\n",
    "#prédit :  [\"S'assoir (depuis position allongée)\"] \n",
    "# attendu :  [\"S'assoir (depuis position allongée)\"]\n",
    "#prédit :  [\"S'assoir (depuis position allongée)\"] \n",
    "# attendu :  [\"S'assoir (depuis position allongée)\"]\n",
    "#prédit :  ['Ne rien faire'] \n",
    "# attendu :  ['Ne rien faire']\n",
    "#prédit :  ['Ne rien faire'] \n",
    "# attendu :  ['Ne rien faire']\n",
    "#prédit :  ['Marcher'] \n",
    "# attendu :  ['Marcher']\n",
    "#prédit :  ['Se lever (chaise)'] \n",
    "# attendu :  ['Se lever (chaise)']  \n",
    "\n",
    "#prédit :  [\"S'assoir (depuis position allongée)\"] \n",
    "# attendu :  ['Se lever (depuis position allongée)']\n",
    "#prédit :  [\"S'assoir (depuis position allongée)\"] \n",
    "# attendu :  ['Se lever (chaise)']\n",
    "#prédit :  ['Se lever (chaise)'] \n",
    "# attendu :  [\"S'allonger (depuis position debout)\"]"
   ]
  }
 ],
 "metadata": {
  "kernelspec": {
   "display_name": "Python 3",
   "language": "python",
   "name": "python3"
  },
  "language_info": {
   "codemirror_mode": {
    "name": "ipython",
    "version": 3
   },
   "file_extension": ".py",
   "mimetype": "text/x-python",
   "name": "python",
   "nbconvert_exporter": "python",
   "pygments_lexer": "ipython3",
   "version": "3.6.3"
  }
 },
 "nbformat": 4,
 "nbformat_minor": 2
}
